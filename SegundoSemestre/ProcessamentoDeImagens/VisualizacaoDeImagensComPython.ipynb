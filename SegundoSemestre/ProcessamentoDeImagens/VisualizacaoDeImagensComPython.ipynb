{
 "cells": [
  {
   "cell_type": "code",
   "execution_count": null,
   "metadata": {
    "vscode": {
     "languageId": "plaintext"
    }
   },
   "outputs": [],
   "source": [
    "#!pip install opencv-python\n",
    "#!pip install matplotlib\n",
    "#!pip install numpy\n",
    "#!pip install seaborn"
   ]
  }
 ],
 "metadata": {
  "language_info": {
   "name": "python"
  }
 },
 "nbformat": 4,
 "nbformat_minor": 2
}
