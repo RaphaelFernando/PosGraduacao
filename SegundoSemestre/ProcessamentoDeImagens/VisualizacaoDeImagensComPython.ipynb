{
 "cells": [
  {
   "cell_type": "code",
   "execution_count": null,
   "metadata": {},
   "outputs": [],
   "source": [
    "#!pip install opencv-python\n",
    "#!pip install matplotlib\n",
    "#!pip install numpy\n",
    "#!pip install seaborn"
   ]
  },
  {
   "cell_type": "code",
   "execution_count": null,
   "metadata": {},
   "outputs": [],
   "source": [
    "# Acesso aos pixels da imagem\n",
    "\n",
    "import numpy as np\n",
    "import cv2 #Opencv\n",
    "\n",
    "#exibir imagem na mesma tela do Jupyter\n",
    "%matplotlib inline\n",
    "import matplotlib.pyplot as plt\n",
    "import seaborn as sns\n",
    "\n",
    "plt.style.use(\"Seaborn\")\n",
    "sns.set_style(\"whitegrid\", {\"Axes.grid\" : False})\n",
    "\n",
    "#Carregar Imagens no google colab com Skimage e ixibindo a imagem com o Opencv\n",
    "from skimage import io\n",
    "from google.colab.patches importcv2_imshow #porque função cv2.imshow é incompativel com jupyter notebook"
   ]
  },
  {
   "cell_type": "markdown",
   "metadata": {},
   "source": [
    "Carregar uma Imagem\n",
    "\n",
    "Carregar uma imagem a partir da Web com !wget\n",
    "\n",
    "Wget é uma ferramenta criada pelo GNU Projet\n",
    "\n",
    "Use para recuperar conteúdos e arquivos de servidores na internet"
   ]
  },
  {
   "cell_type": "code",
   "execution_count": null,
   "metadata": {},
   "outputs": [],
   "source": [
    "!wget -O 'image-1.jpg' 'https://www.maxpixel.net/static/photo/1x/People-Fly-Jump-Casal-Blue-Sky-Love-1046890.jpg'\n",
    "# People Fly Jump Casal Blue Sky Love\n",
    "# Our contributor was tagging for this picture: Fly, Love, Blue Sky, Casal, People, Jump.\n",
    "# It is our selection and archived in the category \"Emotions\".\n",
    "# size of image 3264×1836 pixels, you can download it with JPG format.\n",
    "# The photos on Max Pixel be freely distributed with a Creative Commons Zero - CC0."
   ]
  },
  {
   "cell_type": "code",
   "execution_count": null,
   "metadata": {},
   "outputs": [],
   "source": [
    "!wget -O 'image-2.jpg' 'https://www.maxpixel.net/static/photo/1x/Poor-Children-Child-Highland-Children-Group-People-3091746.jpg'\n",
    "# Poor Children Child Highland Children Group People\n",
    "# Our photographer was made it by Nikon D80 camera with shooting mode 42.0mm • f/9.0 • 1/320s • ISO 800.\n",
    "# Our photographer was tagging for this picture: Highland Children, Poor Children, Child, People, Group.\n",
    "# It is our selection and archived in the category \"People\".\n",
    "# resolution of image 3872×2592 pixels, you can download it with JPG format.\n",
    "# Our team was selected carefully before publish at here.\n",
    "# If it is helpful to you, please share with your friends.\n",
    "# A great picture you can use for free for many different purposes: printing, publishing, wallpaper, commercial products ... etc.\n",
    "# License use Creative Commons Zero - CC0."
   ]
  },
  {
   "cell_type": "code",
   "execution_count": null,
   "metadata": {},
   "outputs": [],
   "source": [
    "!wget -O 'image-3.jpg' 'https://www.maxpixel.net/static/photo/1x/Flirty-Childhood-Beauty-Children-People-Beautiful-3504662.jpg'\n",
    "# Flirty Childhood Beauty Children People Beautiful\n",
    "# The picture was created by Nikon D3000 camera with shoot mode 50.0mm • f/1.4 • 1/1000s • ISO 100, gives a picture excellent quality.\n",
    "# It was archived in the category \"People\", maximum resolution is 3872×2592 pixels, you can download it to JPG format.\n",
    "# We were tagged: Children, Beauty, Childhood, Beautiful, People, Flirty.\n",
    "# License to use Creative Commons Zero - CC0.\n",
    "# You are free to use for many purposes without worrying issues copyright because this picture is TRUE FREE."
   ]
  },
  {
   "cell_type": "markdown",
   "metadata": {},
   "source": [
    "Carregando Imagem apartir de um Upload"
   ]
  },
  {
   "cell_type": "code",
   "execution_count": null,
   "metadata": {},
   "outputs": [],
   "source": [
    "from google.colab import files\n",
    "uploaded = files.upload()\n",
    "#CLicando em Files no canto superior esquerdo é possivel visualizar os arquivos"
   ]
  },
  {
   "cell_type": "markdown",
   "metadata": {},
   "source": [
    "Lendo uma imagem"
   ]
  },
  {
   "cell_type": "code",
   "execution_count": null,
   "metadata": {},
   "outputs": [],
   "source": [
    "#leitura da imagem com a função imread()\n",
    "#image = cv2.imread(\"/content/Diana Cosmonauta.png\")\n",
    "#image = cv2.imread(\"/content/Diana Cosmonauta.png\", cv2.IMREAD_COLOR)\n",
    "#image = cv2.imread(\"/content/Diana Cosmonauta.png\", cv2.IMREAD_GRAYSCALE)\n",
    "image = cv2.imread(\"/content/Diana Cosmonauta.png\", cv2.IMREAD_UNCHANGED)"
   ]
  },
  {
   "cell_type": "code",
   "execution_count": null,
   "metadata": {},
   "outputs": [],
   "source": [
    "cv2_imshow(image)"
   ]
  },
  {
   "cell_type": "markdown",
   "metadata": {},
   "source": [
    "Propriedade de uma imagem"
   ]
  },
  {
   "cell_type": "code",
   "execution_count": null,
   "metadata": {},
   "outputs": [],
   "source": [
    "# o shape é uma função do numpy e não do openCV\n",
    "print(\"Largura (W): %d pixels\" % (image.shape[1]))\n",
    "print(\"Altura (H): %d pixels\" % (image.shape[0]))\n",
    "print(\"Canais: %d\" % (image.shape[2])) # São três canais de cores: Vermelho, Verde e azul; ou o canal 01: Escala de cinza.\n",
    "print(\"Tipo: \", image.dtype)"
   ]
  },
  {
   "cell_type": "code",
   "execution_count": null,
   "metadata": {},
   "outputs": [],
   "source": [
    "#Ler a imagem para uma Matrtiz\n",
    "image10 = cv2.imread(\"/content/Diana Cosmonauta.png\", cv2.IMREAD_COLOR)\n",
    "\n",
    "#Le as propriedades da imagem\n",
    "Altura, Largura, BytesPorPixel = np.shape(image10)\n",
    "\n",
    "#Percorre toda a imagem, fazendo a leitura de valores de cada Pixel\n",
    "for py in range(0, Altura):\n",
    "  for px in range(0, Largura):\n",
    "    print (image10[py], [px])"
   ]
  },
  {
   "cell_type": "markdown",
   "metadata": {},
   "source": [
    "O OpenCV, por padrão, lê os cannais de cores (0,1,2) como Blue, Green, Red."
   ]
  },
  {
   "cell_type": "code",
   "execution_count": null,
   "metadata": {},
   "outputs": [],
   "source": [
    "imageRGB = cv2.cvtColor(image, cv2.COLOR_BGR2RGB)\n",
    "\n",
    "plt.figure(figsize=(20,10))\n",
    "plt.imshow(imageRGB)"
   ]
  },
  {
   "cell_type": "markdown",
   "metadata": {},
   "source": [
    "Concatenar Imagens e ixibir BGR e RGB"
   ]
  },
  {
   "cell_type": "code",
   "execution_count": null,
   "metadata": {},
   "outputs": [],
   "source": [
    "from typing_extensions import final\n",
    "image = cv2.imread(\"/content/Diana Cosmonauta.png\")\n",
    "imageRGB = cv2.cvtColor(image, cv2.COLOR_BGR2RGB)\n",
    "\n",
    "#Concatenar\n",
    "final_frame = cv2.hconcat([image, imageRGB])\n",
    "cv2_imshow(final_frame)\n",
    "print('\\n')"
   ]
  },
  {
   "cell_type": "markdown",
   "metadata": {},
   "source": [
    "Imagem digital\n",
    "\n",
    "\"A imagem digital é um quadro de pixels que representam uma série de valores de intensidade e que são ordenados dentro de um sistema de coordenadas (x,y). De fato, trata-se apenas de um grande quadro serial de números que é interpretado por um computador para reproduzir digitalmente uma cena original” (CESARO, 2007, p.25).\"\n",
    "\n",
    "O pixel:\n",
    "\n",
    "Coordenada (x,y)\n",
    "Valor (Cor)\n",
    "\n",
    "Fundamentos da cor\n",
    "Cada pixel carrega tres valores de cor\n",
    "cada canal de cor tem bits\n",
    "Então, cada pixel armazena valores de cor em 24 bits\n",
    "imagem em 24 bits = 16 milhoes de cores\n",
    "Cor é a nossa percepção de diferentes comprimentos de onda de luz A luz é um fenômeno físico, mas a cor depende da interação da luz com o sistema visual, sendo, assim, um fenômeno psicofísico.\n",
    "\n",
    "Resolução da Imagem\n",
    "A Resolução da Imagem é medida em dpi - dots per inch (pixels por polegada)\n",
    "\n",
    "Balanceamento da equação = qualidade da imagem x tempo de processamento x espaço de armazenamento.\n",
    "Mudança na dimensão da imagem (resize) é diferente de re-sampling.\n",
    "A correta definição de resolução é fundamental e dependente da aplicação.\"\n",
    "Processo de formação das cores\n",
    "Aditivo = RGB\n",
    "\n",
    "Subtrativo = CMYK\n",
    "\n",
    "Pigmentação = Cores primarias (Azul, Amarelo e Vermelho)\n",
    "\n",
    "Cores Primarias\n",
    "São formadas pela pigmentação (processo muito usado nas artes plásticas)\n",
    "\n",
    "Cores primárias são as cores puras, ou seja, que não podem ser criadas a partir da combinação de outras cores.\n",
    "\n",
    "As cores primárias são: o amarelo, o vermelho e o azul.\n",
    "\n",
    "A partir das cores primárias é possível fazer todas as outras cores. As cores vermelho, verde e azul quando juntas possuem como resultado a cor branca.\n",
    "\n",
    "Luz\n",
    "Em geral, as condições de iluminação devem ter três objetivos principais.\n",
    "\n",
    "a) alto contraste: é preciso maximizar o contraste entre as Regiões de Interesse em dada imagem (ou seja, os “objetos” que se deseja detectar,extrair, descrever, classificar, manipular, etc., devem ter contraste suficientemente alto do resto da imagem para serem facilmente detectáveis).\n",
    "\n",
    "B) generalizável: as condições de iluminação devem ser consistentes o suficiente para funcionar bem de um objeto para o outro.\n",
    "\n",
    "C) ser estável: ter condições de iluminação estáveis, consistentes e repetíveis é o cenário pretendido; embora seja muito difícil alcançartais condições.\n",
    "\n",
    "Leitura (ou Exibição) da imagem"
   ]
  },
  {
   "cell_type": "code",
   "execution_count": null,
   "metadata": {},
   "outputs": [],
   "source": [
    "image = cv2.imread(\"/content/Diana Cosmonauta.png\", cv2.IMREAD_COLOR)\n",
    "\n",
    "plt.figure(figsize=(20,10))\n",
    "plt.imshow(image)"
   ]
  },
  {
   "cell_type": "markdown",
   "metadata": {},
   "source": [
    "Transformar Imagem BGR para RGB, Usando função do OpenCV"
   ]
  },
  {
   "cell_type": "code",
   "execution_count": null,
   "metadata": {},
   "outputs": [],
   "source": [
    "imageRGB = cv2.cvtColor(image, cv2.COLOR_BGR2RGB)\n",
    "\n",
    "plt.figure(figsize=(20,10))\n",
    "plt.imshow(imageRGB)"
   ]
  },
  {
   "cell_type": "markdown",
   "metadata": {},
   "source": [
    "Verificando os valores do Pixel"
   ]
  },
  {
   "cell_type": "code",
   "execution_count": null,
   "metadata": {},
   "outputs": [],
   "source": [
    "(r, g, b) = imageRGB[0, 0]\n",
    "#print(\"Pixel na pocicao (0, 0) - Red: %d, Blue: %d\" % (r, g, b))\n",
    "print(\"Pixel na pocicao (0, 0) - Red: {}, Green: {}, Blue: {}\".format(r, g, b))"
   ]
  },
  {
   "cell_type": "code",
   "execution_count": null,
   "metadata": {},
   "outputs": [],
   "source": [
    "r, g, b = cv2.split(imageRGB)"
   ]
  },
  {
   "cell_type": "code",
   "execution_count": null,
   "metadata": {},
   "outputs": [],
   "source": [
    "plt.figure(figsize=(20,20))\n",
    "\n",
    "#Composição Vermelha\n",
    "plt.subplot(1,3,1)\n",
    "plt.imshow(r, cmap = \"gray\")\n",
    "plt.title(\"Image Red\")\n",
    "\n",
    "#Composição Verde\n",
    "plt.subplot(1,3,2)\n",
    "plt.imshow(g, cmap = \"gray\")\n",
    "plt.title(\"Image Green\")\n",
    "\n",
    "#Composição Azul\n",
    "plt.subplot(1,3,3)\n",
    "plt.imshow(b, cmap = \"gray\")\n",
    "plt.title(\"image Blue\")"
   ]
  },
  {
   "cell_type": "code",
   "execution_count": null,
   "metadata": {},
   "outputs": [],
   "source": [
    "#Criando uma matriz vazia na mesma Dimensão da imagem\n",
    "\n",
    "r, g, b = cv2.split(imageRGB)\n",
    "imagem_vazia = np.zeros(imageRGB.shape[:2], dtype = \"uint8\")\n",
    "\n",
    "cv2_imshow(imagem_vazia)"
   ]
  },
  {
   "cell_type": "markdown",
   "metadata": {},
   "source": [
    "Mostrar imagem, em canais de cores separados"
   ]
  },
  {
   "cell_type": "code",
   "execution_count": null,
   "metadata": {},
   "outputs": [],
   "source": [
    "plt. figure(figsize=(20,20))\n",
    "\n",
    "plt.subplot(1,3,1)\n",
    "plt.imshow(cv2.merge([r, imagem_vazia, imagem_vazia]))\n",
    "plt.title(\"ImageRGB Red\")\n",
    "\n",
    "plt.subplot(1,3,2)\n",
    "\n",
    "plt.imshow(cv2.merge([imagem_vazia, g, imagem_vazia]))\n",
    "plt.title(\"ImageRGB Green\")\n",
    "\n",
    "plt.subplot(1,3,3)\n",
    "\n",
    "plt.imshow(cv2.merge([imagem_vazia, imagem_vazia, b]))\n",
    "plt.title(\"ImageRGB Blue\")"
   ]
  },
  {
   "cell_type": "code",
   "execution_count": null,
   "metadata": {},
   "outputs": [],
   "source": [
    "image_merged = cv2.merge([r, g, b])\n",
    "\n",
    "plt.figure(figsize=(20,10))\n",
    "plt.title(\"Imagem RGB\")\n",
    "plt.imshow(image_merged)"
   ]
  }
 ],
 "metadata": {
  "kernelspec": {
   "display_name": "Python 3",
   "language": "python",
   "name": "python3"
  },
  "language_info": {
   "codemirror_mode": {
    "name": "ipython",
    "version": 3
   },
   "file_extension": ".py",
   "mimetype": "text/x-python",
   "name": "python",
   "nbconvert_exporter": "python",
   "pygments_lexer": "ipython3",
   "version": "3.12.2"
  }
 },
 "nbformat": 4,
 "nbformat_minor": 2
}
